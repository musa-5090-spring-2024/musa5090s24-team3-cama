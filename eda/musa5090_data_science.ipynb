{
  "nbformat": 4,
  "nbformat_minor": 0,
  "metadata": {
    "colab": {
      "provenance": []
    },
    "kernelspec": {
      "name": "python3",
      "display_name": "Python 3"
    },
    "language_info": {
      "name": "python"
    }
  },
  "cells": [
    {
      "cell_type": "markdown",
      "source": [
        "# MUSA 5090 Final Project\n",
        "This file is used for data exploration, analysis, feature engineering, and model buildings.\n"
      ],
      "metadata": {
        "id": "B91hvaYew2SQ"
      }
    },
    {
      "cell_type": "markdown",
      "source": [
        "## Load Data Here"
      ],
      "metadata": {
        "id": "rAR7mynmz7-d"
      }
    },
    {
      "cell_type": "code",
      "execution_count": null,
      "metadata": {
        "id": "9fVJwODxvb3z"
      },
      "outputs": [],
      "source": [
        "import panda"
      ]
    },
    {
      "cell_type": "code",
      "source": [],
      "metadata": {
        "id": "DBCgS_ZKxJDY"
      },
      "execution_count": null,
      "outputs": []
    }
  ]
}